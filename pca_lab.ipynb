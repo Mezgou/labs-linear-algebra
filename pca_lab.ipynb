{
 "cells": [
  {
   "metadata": {
    "ExecuteTime": {
     "end_time": "2025-04-22T14:50:21.898431Z",
     "start_time": "2025-04-22T14:50:21.895065Z"
    }
   },
   "cell_type": "code",
   "source": [
    "from algorithms_pca.matrix import Matrix\n",
    "from algorithms_pca.linear_solver import gauss_solver\n",
    "from algorithms_pca.statistics import center_data, covariance_matrix\n",
    "from algorithms_pca.eigen import find_eigenvalues, find_eigenvectors\n",
    "from algorithms_pca.pca import pca, explained_variance_ratio\n",
    "from algorithms_pca.visualization import plot_pca_projection\n",
    "from algorithms_pca.utils import auto_select_k"
   ],
   "id": "432cde9a475ba869",
   "outputs": [],
   "execution_count": 28
  },
  {
   "cell_type": "code",
   "id": "initial_id",
   "metadata": {
    "collapsed": true,
    "ExecuteTime": {
     "end_time": "2025-04-22T14:50:21.923228Z",
     "start_time": "2025-04-22T14:50:21.916151Z"
    }
   },
   "source": [
    "A = Matrix([[4, 7], [2, 6]])\n",
    "B = Matrix([[3, 8], [5, 1]])\n",
    "print(\"A + B =\", A + B)\n",
    "print(\"A - B =\", A - B)\n",
    "print(\"A * B (elem) =\", A * B)\n",
    "print(\"A.matmul(B) =\", A.matmul(B))\n",
    "print(\"A.T =\", A.T)\n",
    "print(\"det(A) =\", A.determinant())\n",
    "print(\"inv(A) =\", A.inverse())\n",
    "print(\"rank(A) =\", A.rank())\n",
    "print(\"trace(A) =\", A.trace())\n",
    "P, L, U = A.lu()\n",
    "print(\"P, L, U =\", P, L, U)\n",
    "x = A.solve(Matrix([[1], [0]]))\n",
    "print(\"Solution x to Ax=b =\", x)\n",
    "x = gauss_solver(A, Matrix([[1], [0]]))\n",
    "print(\"Solution x to Ax=b =\", x)\n",
    "\n",
    "A = Matrix([[1, 2, 3], [4, 5, 6], [7, 8, 10]])\n",
    "x = A.solve(Matrix([[6], [15], [25]]))\n",
    "print(\"Solution x to Ax=b =\", x)\n",
    "\n",
    "x = gauss_solver(A, Matrix([[6], [15], [25]]))\n",
    "print(\"Solution x to Ax=b =\", x)\n",
    "\n",
    "A = Matrix([\n",
    "    [1, 2, -1],\n",
    "    [-2, -4, 2],\n",
    "    [3, 6, -3]\n",
    "])\n",
    "b = Matrix([\n",
    "    [1],\n",
    "    [-2],\n",
    "    [3]\n",
    "])\n",
    "\n",
    "solutions = gauss_solver(A, b)\n",
    "print(solutions)"
   ],
   "outputs": [
    {
     "name": "stdout",
     "output_type": "stream",
     "text": [
      "A + B = Matrix([[7, 15], [7, 7]])\n",
      "A - B = Matrix([[1, -1], [-3, 5]])\n",
      "A * B (elem) = Matrix([[12, 56], [10, 6]])\n",
      "A.matmul(B) = Matrix([[47, 39], [36, 22]])\n",
      "A.T = Matrix([[4, 2], [7, 6]])\n",
      "det(A) = 10.0\n",
      "inv(A) = Matrix([[0.6000000000000001, -0.7000000000000001], [-0.2, 0.4]])\n",
      "rank(A) = 2\n",
      "trace(A) = 10\n",
      "P, L, U = Matrix([[1.0, 0.0], [0.0, 1.0]]) Matrix([[1.0, 0.0], [0.5, 1.0]]) Matrix([[4, 7], [0.0, 2.5]])\n",
      "Solution x to Ax=b = Matrix([[0.6000000000000001], [-0.2]])\n",
      "Solution x to Ax=b = [Matrix([[0.6000000000000001], [-0.2]])]\n",
      "Solution x to Ax=b = Matrix([[1.0000000000000004], [0.9999999999999987], [1.0000000000000007]])\n",
      "Solution x to Ax=b = [Matrix([[1.0000000000000013], [0.9999999999999969], [1.0000000000000016]])]\n",
      "[Matrix([[1.0], [0.0], [0.0]]), Matrix([[-2.0], [1.0], [0.0]]), Matrix([[1.0], [0.0], [1.0]])]\n"
     ]
    }
   ],
   "execution_count": 29
  },
  {
   "metadata": {
    "ExecuteTime": {
     "end_time": "2025-04-22T14:50:21.940856Z",
     "start_time": "2025-04-22T14:50:21.936789Z"
    }
   },
   "cell_type": "code",
   "source": [
    "X = Matrix([\n",
    "    [1, 2, 3],\n",
    "    [4, 5, 6],\n",
    "    [7, 8, 9]\n",
    "])\n",
    "\n",
    "X_centered = center_data(X)\n",
    "print(\"Центрированная матрица:\")\n",
    "print(X_centered)\n",
    "\n",
    "cov = covariance_matrix(X_centered)\n",
    "print(\"Матрица ковариаций:\")\n",
    "print(cov)"
   ],
   "id": "8068efb6dad092a9",
   "outputs": [
    {
     "name": "stdout",
     "output_type": "stream",
     "text": [
      "Центрированная матрица:\n",
      "Matrix([[-3.0, -3.0, -3.0], [0.0, 0.0, 0.0], [3.0, 3.0, 3.0]])\n",
      "Матрица ковариаций:\n",
      "Matrix([[9.0, 9.0, 9.0], [9.0, 9.0, 9.0], [9.0, 9.0, 9.0]])\n"
     ]
    }
   ],
   "execution_count": 30
  },
  {
   "metadata": {
    "ExecuteTime": {
     "end_time": "2025-04-22T14:50:21.964065Z",
     "start_time": "2025-04-22T14:50:21.953878Z"
    }
   },
   "cell_type": "code",
   "source": [
    "C = Matrix([[1, 2],\n",
    "            [2, 4]])\n",
    "eigenvalues = find_eigenvalues(C)\n",
    "print(\"Eigenvalues:\", eigenvalues)\n",
    "\n",
    "eigenvectors = find_eigenvectors(C, eigenvalues)\n",
    "print(\"Eigenvectors:\")\n",
    "for v in eigenvectors:\n",
    "    print(v)"
   ],
   "id": "21b4e3a527c312b0",
   "outputs": [
    {
     "name": "stdout",
     "output_type": "stream",
     "text": [
      "Eigenvalues: [-0.0, 5.0]\n",
      "Eigenvectors:\n",
      "Matrix([[-2.0], [1.0]])\n",
      "Matrix([[0.5], [1.0]])\n"
     ]
    }
   ],
   "execution_count": 31
  },
  {
   "metadata": {
    "ExecuteTime": {
     "end_time": "2025-04-22T14:50:22.145437Z",
     "start_time": "2025-04-22T14:50:21.979326Z"
    }
   },
   "cell_type": "code",
   "source": [
    "sample_data = Matrix([[1.0, 2.0], [3.0, 4.0], [5.0, 6.0]])\n",
    "X_p, explained = pca(sample_data, k=2)\n",
    "print(f\"Projected data (n×k): {X_p}\")\n",
    "print(f\"Explained variance ratio: {explained:.4f}\")\n",
    "plot_pca_projection(X_p)\n",
    "\n",
    "import numpy as np\n",
    "\n",
    "sample_data = np.array([[1.0, 2.0], [3.0, 4.0], [5.0, 6.0]])\n",
    "\n",
    "mean = np.mean(sample_data, axis=0)\n",
    "X_centered = sample_data - mean\n",
    "\n",
    "cov_matrix = np.cov(X_centered, rowvar=False)\n",
    "\n",
    "eigen_values, eigen_vectors = np.linalg.eigh(cov_matrix)\n",
    "\n",
    "sorted_idx = np.argsort(eigen_values)[::-1]\n",
    "eigen_vectors_sorted = eigen_vectors[:, sorted_idx]\n",
    "eigen_values_sorted = eigen_values[sorted_idx]\n",
    "\n",
    "k = 1\n",
    "components = eigen_vectors_sorted[:, :k]\n",
    "\n",
    "X_p = X_centered @ components\n",
    "\n",
    "explained = eigen_values_sorted[:k].sum() / eigen_values_sorted.sum()\n",
    "\n",
    "print(\"Projected data (n×k):\")\n",
    "print(X_p)\n",
    "print(f\"Explained variance ratio: {explained:.4f}\")"
   ],
   "id": "c69eee73684556bd",
   "outputs": [
    {
     "name": "stdout",
     "output_type": "stream",
     "text": [
      "Projected data (n×k): Matrix([[-4.0, 0.0], [0.0, 0.0], [4.0, 0.0]])\n",
      "Explained variance ratio: 1.0000\n",
      "Projected data (n×k):\n",
      "[[-2.82842712]\n",
      " [ 0.        ]\n",
      " [ 2.82842712]]\n",
      "Explained variance ratio: 1.0000\n"
     ]
    },
    {
     "data": {
      "text/plain": [
       "<Figure size 640x480 with 1 Axes>"
      ],
      "image/png": "[encoded data removed]"
     },
     "metadata": {},
     "output_type": "display_data"
    }
   ],
   "execution_count": 32
  },
  {
   "metadata": {
    "ExecuteTime": {
     "end_time": "2025-04-22T14:50:22.184336Z",
     "start_time": "2025-04-22T14:50:22.162485Z"
    }
   },
   "cell_type": "code",
   "source": [
    "X = Matrix([\n",
    "    [2.5, 2.4, 1.2, 3.1, 0.5],\n",
    "    [0.5, 0.7, 1.5, 2.9, 0.3],\n",
    "    [2.2, 2.9, 0.9, 3.2, 0.6],\n",
    "    [1.9, 2.2, 1.0, 3.0, 0.4],\n",
    "    [3.1, 3.0, 1.3, 3.5, 0.7],\n",
    "    [2.3, 2.7, 1.1, 3.3, 0.5],\n",
    "])\n",
    "print(eig)\n",
    "\n",
    "eig = find_eigenvalues(covariance_matrix(center_data(X)))\n",
    "auto_select_k(eig, 0.95)"
   ],
   "id": "48f7ba5a07f9d311",
   "outputs": [
    {
     "name": "stdout",
     "output_type": "stream",
     "text": [
      "[0.01906, 0.07567, 1.49594]\n",
      "Eigenvalues (sorted): [np.float64(1.4959417717526826), np.float64(0.07566686547696312), np.float64(0.019063127962740137), np.float64(0.001747820127958624), np.float64(0.00024708134632266235)]\n",
      "auto_select_k -> 2\n"
     ]
    }
   ],
   "execution_count": 33
  }
 ],
 "metadata": {
  "kernelspec": {
   "display_name": "Python 3",
   "language": "python",
   "name": "python3"
  },
  "language_info": {
   "codemirror_mode": {
    "name": "ipython",
    "version": 2
   },
   "file_extension": ".py",
   "mimetype": "text/x-python",
   "name": "python",
   "nbconvert_exporter": "python",
   "pygments_lexer": "ipython2",
   "version": "2.7.6"
  }
 },
 "nbformat": 4,
 "nbformat_minor": 5
}
