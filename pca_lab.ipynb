{
 "cells": [
  {
   "metadata": {
    "ExecuteTime": {
     "end_time": "2025-04-23T22:24:56.271405Z",
     "start_time": "2025-04-23T22:24:56.267412Z"
    }
   },
   "cell_type": "code",
   "source": [
    "from algorithms_pca.matrix import Matrix\n",
    "from algorithms_pca.linear_solver import gauss_solver\n",
    "from algorithms_pca.statistics import center_data, covariance_matrix\n",
    "from algorithms_pca.eigen import find_eigenvalues, find_eigenvectors\n",
    "from algorithms_pca.pca import pca\n",
    "from algorithms_pca.visualization import plot_pca_projection\n",
    "from algorithms_pca.utils import auto_select_k, apply_pca_to_dataset, add_noise_and_compare\n",
    "\n",
    "import matplotlib.pyplot as plt"
   ],
   "id": "432cde9a475ba869",
   "outputs": [],
   "execution_count": 14
  },
  {
   "cell_type": "code",
   "id": "initial_id",
   "metadata": {
    "collapsed": true,
    "ExecuteTime": {
     "end_time": "2025-04-23T22:24:56.293161Z",
     "start_time": "2025-04-23T22:24:56.286761Z"
    }
   },
   "source": [
    "A = Matrix([[4, 7], [2, 6]])\n",
    "B = Matrix([[3, 8], [5, 1]])\n",
    "print(\"A + B =\", A + B)\n",
    "print(\"A - B =\", A - B)\n",
    "print(\"A * B (elem) =\", A * B)\n",
    "print(\"A.matmul(B) =\", A.matmul(B))\n",
    "print(\"A.T =\", A.T)\n",
    "print(\"det(A) =\", A.determinant())\n",
    "print(\"inv(A) =\", A.inverse())\n",
    "print(\"rank(A) =\", A.rank())\n",
    "print(\"trace(A) =\", A.trace())\n",
    "P, L, U = A.lu()\n",
    "print(\"P, L, U =\", P, L, U)\n",
    "x = A.solve(Matrix([[1], [0]]))\n",
    "print(\"Solution x to Ax=b =\", x)\n",
    "x = gauss_solver(A, Matrix([[1], [0]]))\n",
    "print(\"Solution x to Ax=b =\", x)\n",
    "\n",
    "A = Matrix([[1, 2, 3], [4, 5, 6], [7, 8, 10]])\n",
    "x = A.solve(Matrix([[6], [15], [25]]))\n",
    "print(\"Solution x to Ax=b =\", x)\n",
    "\n",
    "x = gauss_solver(A, Matrix([[6], [15], [25]]))\n",
    "print(\"Solution x to Ax=b =\", x)\n",
    "\n",
    "A = Matrix([\n",
    "    [1, 2, -1],\n",
    "    [-2, -4, 2],\n",
    "    [3, 6, -3]\n",
    "])\n",
    "b = Matrix([\n",
    "    [1],\n",
    "    [-2],\n",
    "    [3]\n",
    "])\n",
    "\n",
    "solutions = gauss_solver(A, b)\n",
    "print(solutions)"
   ],
   "outputs": [
    {
     "name": "stdout",
     "output_type": "stream",
     "text": [
      "A + B = Matrix([[7, 15], [7, 7]])\n",
      "A - B = Matrix([[1, -1], [-3, 5]])\n",
      "A * B (elem) = Matrix([[12, 56], [10, 6]])\n",
      "A.matmul(B) = Matrix([[47.0, 39.0], [36.0, 22.0]])\n",
      "A.T = Matrix([[4, 2], [7, 6]])\n",
      "det(A) = 10.0\n",
      "inv(A) = Matrix([[0.6000000000000001, -0.7000000000000001], [-0.2, 0.4]])\n",
      "rank(A) = 2\n",
      "trace(A) = 10\n",
      "P, L, U = Matrix([[1.0, 0.0], [0.0, 1.0]]) Matrix([[1.0, 0.0], [0.5, 1.0]]) Matrix([[4, 7], [0.0, 2.5]])\n",
      "Solution x to Ax=b = Matrix([[0.6000000000000001], [-0.2]])\n",
      "Solution x to Ax=b = [Matrix([[0.6000000000000001], [-0.2]])]\n",
      "Solution x to Ax=b = Matrix([[-6.142857142857159], [47.42857142857147], [-31.142857142857167]])\n",
      "Solution x to Ax=b = [Matrix([[1.0000000000000013], [0.9999999999999969], [1.0000000000000016]])]\n",
      "[Matrix([[1.0], [0.0], [0.0]]), Matrix([[-2.0], [1.0], [0.0]]), Matrix([[1.0], [0.0], [1.0]])]\n"
     ]
    }
   ],
   "execution_count": 15
  },
  {
   "metadata": {
    "ExecuteTime": {
     "end_time": "2025-04-23T22:24:56.315302Z",
     "start_time": "2025-04-23T22:24:56.310483Z"
    }
   },
   "cell_type": "code",
   "source": [
    "X = Matrix([\n",
    "    [1, 2, 3],\n",
    "    [4, 5, 6],\n",
    "    [7, 8, 9]\n",
    "])\n",
    "\n",
    "X_centered, _ = center_data(X)\n",
    "print(\"Центрированная матрица:\")\n",
    "print(X_centered)\n",
    "\n",
    "cov = covariance_matrix(X_centered)\n",
    "print(\"Матрица ковариаций:\")\n",
    "print(cov)"
   ],
   "id": "8068efb6dad092a9",
   "outputs": [
    {
     "name": "stdout",
     "output_type": "stream",
     "text": [
      "Центрированная матрица:\n",
      "Matrix([[-3.0, -3.0, -3.0], [0.0, 0.0, 0.0], [3.0, 3.0, 3.0]])\n",
      "Матрица ковариаций:\n",
      "Matrix([[9.0, 9.0, 9.0], [9.0, 9.0, 9.0], [9.0, 9.0, 9.0]])\n"
     ]
    }
   ],
   "execution_count": 16
  },
  {
   "metadata": {
    "ExecuteTime": {
     "end_time": "2025-04-23T22:24:56.373256Z",
     "start_time": "2025-04-23T22:24:56.332939Z"
    }
   },
   "cell_type": "code",
   "source": [
    "C = Matrix([[1, 2],\n",
    "            [2, 4]])\n",
    "eigenvalues = find_eigenvalues(C)\n",
    "print(\"Eigenvalues:\", eigenvalues)\n",
    "\n",
    "eigenvectors = find_eigenvectors(C, eigenvalues)\n",
    "print(\"Eigenvectors:\")\n",
    "for v in eigenvectors:\n",
    "    print(v)"
   ],
   "id": "21b4e3a527c312b0",
   "outputs": [
    {
     "name": "stdout",
     "output_type": "stream",
     "text": [
      "Eigenvalues: [-0.0, 5.0]\n",
      "Eigenvectors:\n",
      "Matrix([[-0.894427], [0.447214]])\n",
      "Matrix([[0.447214], [0.894427]])\n"
     ]
    }
   ],
   "execution_count": 17
  },
  {
   "metadata": {
    "ExecuteTime": {
     "end_time": "2025-04-23T22:24:56.533639Z",
     "start_time": "2025-04-23T22:24:56.389496Z"
    }
   },
   "cell_type": "code",
   "source": [
    "sample_data = Matrix([[1.0, 2.0], [3.0, 4.0], [5.0, 6.0]])\n",
    "X_p, explained = pca(sample_data, k=2)\n",
    "print(f\"Projected data (n×k): {X_p}\")\n",
    "print(f\"Explained variance ratio: {explained:.4f}\")\n",
    "plot_pca_projection(X_p)\n",
    "\n",
    "import numpy as np\n",
    "\n",
    "sample_data = np.array([[1.0, 2.0], [3.0, 4.0], [5.0, 6.0]])\n",
    "\n",
    "mean = np.mean(sample_data, axis=0)\n",
    "X_centered = sample_data - mean\n",
    "\n",
    "cov_matrix = np.cov(X_centered, rowvar=False)\n",
    "\n",
    "eigen_values, eigen_vectors = np.linalg.eigh(cov_matrix)\n",
    "\n",
    "sorted_idx = np.argsort(eigen_values)[::-1]\n",
    "eigen_vectors_sorted = eigen_vectors[:, sorted_idx]\n",
    "eigen_values_sorted = eigen_values[sorted_idx]\n",
    "\n",
    "k = 1\n",
    "components = eigen_vectors_sorted[:, :k]\n",
    "\n",
    "X_p = X_centered @ components\n",
    "\n",
    "explained = eigen_values_sorted[:k].sum() / eigen_values_sorted.sum()\n",
    "\n",
    "print(\"Projected data (n×k):\")\n",
    "print(X_p)\n",
    "print(f\"Explained variance ratio: {explained:.4f}\")"
   ],
   "id": "c69eee73684556bd",
   "outputs": [
    {
     "name": "stdout",
     "output_type": "stream",
     "text": [
      "Projected data (n×k): Matrix([[-2.828428, 0.0], [0.0, 0.0], [2.828428, 0.0]])\n",
      "Explained variance ratio: 1.0000\n",
      "Projected data (n×k):\n",
      "[[-2.82842712]\n",
      " [ 0.        ]\n",
      " [ 2.82842712]]\n",
      "Explained variance ratio: 1.0000\n"
     ]
    },
    {
     "data": {
      "text/plain": [
       "<Figure size 640x480 with 1 Axes>"
      ],
      "image/png": "[encoded data removed]"
     },
     "metadata": {},
     "output_type": "display_data"
    }
   ],
   "execution_count": 18
  },
  {
   "metadata": {
    "ExecuteTime": {
     "end_time": "2025-04-23T22:24:56.686101Z",
     "start_time": "2025-04-23T22:24:56.551470Z"
    }
   },
   "cell_type": "code",
   "source": [
    "X = Matrix([\n",
    "    [2.5, 2.4, 1.2, 3.1, 0.5],\n",
    "    [0.5, 0.7, 1.5, 2.9, 0.3],\n",
    "    [2.2, 2.9, 0.9, 3.2, 0.6],\n",
    "    [1.9, 2.2, 1.0, 3.0, 0.4],\n",
    "    [3.1, 3.0, 1.3, 3.5, 0.7],\n",
    "    [2.3, 2.7, 1.1, 3.3, 0.5],\n",
    "])\n",
    "\n",
    "eig = find_eigenvalues(covariance_matrix(center_data(X)[0]))\n",
    "auto_select_k(eig, 0.95)"
   ],
   "id": "48f7ba5a07f9d311",
   "outputs": [
    {
     "data": {
      "text/plain": [
       "2"
      ]
     },
     "execution_count": 19,
     "metadata": {},
     "output_type": "execute_result"
    }
   ],
   "execution_count": 19
  },
  {
   "metadata": {
    "ExecuteTime": {
     "end_time": "2025-04-23T22:24:56.926247Z",
     "start_time": "2025-04-23T22:24:56.699282Z"
    }
   },
   "cell_type": "code",
   "source": [
    "X_example = Matrix([[1.0, 2.0], [3.0, 4.0], [5.0, 6.0]])\n",
    "result = add_noise_and_compare(X_example, noise_level=0.2)\n",
    "print(\"Selected k:\", result['k'])\n",
    "print(\"Explained ratio (orig):\", result['ratio_orig'])\n",
    "print(\"Explained ratio (noisy):\", result['ratio_noisy'])\n",
    "\n",
    "X_proj_iris, ratio_iris = apply_pca_to_dataset('iris', 1)\n",
    "print(f\"Iris dataset projected shape: ({X_proj_iris.rows}, {X_proj_iris.cols})\")\n",
    "print(\"Explained ratio (iris, k=2):\", ratio_iris)\n"
   ],
   "id": "bdc7f5343c11bac",
   "outputs": [
    {
     "name": "stdout",
     "output_type": "stream",
     "text": [
      "Selected k: 1\n",
      "Explained ratio (orig): 1.0\n",
      "Explained ratio (noisy): 0.9958409568641384\n",
      "Iris dataset projected shape: (150, 1)\n",
      "Explained ratio (iris, k=2): 0.9246197749811391\n"
     ]
    }
   ],
   "execution_count": 20
  },
  {
   "metadata": {
    "ExecuteTime": {
     "end_time": "2025-04-23T22:24:56.983933Z",
     "start_time": "2025-04-23T22:24:56.938152Z"
    }
   },
   "cell_type": "code",
   "source": [
    "data = Matrix([\n",
    "    [-1, -6],\n",
    "    [2, 6]])\n",
    "eigenvalues = find_eigenvalues(data)\n",
    "eigenvectors = find_eigenvectors(data, eigenvalues)\n",
    "\n",
    "\n",
    "\n",
    "print(\"\\nСобственные значения:\", [f\"{λ:.3f}\" for λ in eigenvalues])\n",
    "print(\"\\nСобственные векторы:\")\n",
    "for i, vec in enumerate(eigenvectors):\n",
    "    print(vec)"
   ],
   "id": "f13d961f8a67426d",
   "outputs": [
    {
     "name": "stdout",
     "output_type": "stream",
     "text": [
      "\n",
      "Собственные значения: ['2.000', '3.000']\n",
      "\n",
      "Собственные векторы:\n",
      "Matrix([[-0.894427], [0.447214]])\n",
      "Matrix([[-0.83205], [0.5547]])\n"
     ]
    }
   ],
   "execution_count": 21
  },
  {
   "metadata": {
    "ExecuteTime": {
     "end_time": "2025-04-23T22:24:58.063937Z",
     "start_time": "2025-04-23T22:24:56.993867Z"
    }
   },
   "cell_type": "code",
   "source": [
    "import numpy as np\n",
    "import matplotlib.pyplot as plt\n",
    "from sklearn.datasets import load_iris\n",
    "from sklearn.preprocessing import StandardScaler\n",
    "from sklearn.linear_model import LogisticRegression\n",
    "from sklearn.metrics import accuracy_score\n",
    "from sklearn.model_selection import train_test_split\n",
    "from sklearn.decomposition import PCA as SklearnPCA\n",
    "\n",
    "from algorithms_pca.matrix import Matrix\n",
    "from algorithms_pca.pca import pca_qr\n",
    "from algorithms_pca.statistics import center_data\n",
    "from algorithms_pca.utils import auto_select_k\n",
    "\n",
    "\n",
    "def matrix_to_np(X: Matrix) -> np.ndarray:\n",
    "    return np.array(X._data)\n",
    "\n",
    "def visualize(X_my, X_sk, y):\n",
    "    plt.figure(figsize=(12,5))\n",
    "    for i, (Xp, title) in enumerate([(X_my, \"PCA_QR\"), (X_sk, \"sklearn PCA\")], 1):\n",
    "        plt.subplot(1,2,i)\n",
    "        for cls in np.unique(y):\n",
    "            plt.scatter(Xp[y==cls,0], Xp[y==cls,1], label=f\"class {cls}\")\n",
    "        plt.title(title)\n",
    "        plt.xlabel(\"PC1\"); plt.ylabel(\"PC2\"); plt.legend()\n",
    "    plt.tight_layout()\n",
    "    plt.show()\n",
    "\n",
    "# 1. загрузка\n",
    "data = load_iris()\n",
    "X_np = data.data\n",
    "y = data.target\n",
    "X = Matrix(X_np.tolist())\n",
    "\n",
    "# 2. стандартизация для sklearn\n",
    "scaler = StandardScaler()\n",
    "X_scaled = scaler.fit_transform(X_np)\n",
    "\n",
    "# 3. автоподбор k по QR-PCA\n",
    "Xc, _ = center_data(X)\n",
    "Cov = Xc.T @ Xc / X.rows\n",
    "eigvals = Cov.qr_eigen()[0]\n",
    "k = auto_select_k(eigvals, threshold=0.95)\n",
    "print(\"Выбранное k =\", k)\n",
    "\n",
    "# 4. PCA_QR\n",
    "X_proj_qr, ratio_qr, raw_vals, W, means = pca_qr(X, k)\n",
    "Xp_qr_np = matrix_to_np(X_proj_qr)\n",
    "print(f\"PCA_QR explained variance ratio = {ratio_qr:.4f}\")\n",
    "\n",
    "# 5. sklearn PCA\n",
    "sk_pca = SklearnPCA(n_components=k)\n",
    "Xp_sk = sk_pca.fit_transform(X_scaled)\n",
    "print(f\"sklearn explained variance ratio = {sk_pca.explained_variance_ratio_.sum():.4f}\")\n",
    "\n",
    "# 6. сравнение проекций\n",
    "visualize(Xp_qr_np, Xp_sk, y)\n",
    "\n",
    "# 7. классификация на проекциях\n",
    "X_train_qr, X_test_qr, y_train, y_test = train_test_split(\n",
    "    Xp_qr_np, y, test_size=0.3, random_state=0)\n",
    "X_train_sk, X_test_sk, _, _ = train_test_split(\n",
    "    Xp_sk, y, test_size=0.3, random_state=0)\n",
    "\n",
    "clf_qr = LogisticRegression(max_iter=1000).fit(X_train_qr, y_train)\n",
    "clf_sk = LogisticRegression(max_iter=1000).fit(X_train_sk, y_train)\n",
    "\n",
    "acc_qr = accuracy_score(y_test, clf_qr.predict(X_test_qr))\n",
    "acc_sk = accuracy_score(y_test, clf_sk.predict(X_test_sk))\n",
    "\n",
    "print(f\"Accuracy PCA_QR + LogisticRegression = {acc_qr:.4f}\")\n",
    "print(f\"Accuracy sklearn PCA + LogisticRegression = {acc_sk:.4f}\")"
   ],
   "id": "1f82c1d3330a5736",
   "outputs": [
    {
     "name": "stdout",
     "output_type": "stream",
     "text": [
      "Выбранное k = 2\n",
      "PCA_QR explained variance ratio = 0.9777\n",
      "sklearn explained variance ratio = 0.9581\n"
     ]
    },
    {
     "data": {
      "text/plain": [
       "<Figure size 1200x500 with 2 Axes>"
      ],
      "image/png": "[encoded data removed]"
     },
     "metadata": {},
     "output_type": "display_data"
    },
    {
     "name": "stdout",
     "output_type": "stream",
     "text": [
      "Accuracy PCA_QR + LogisticRegression = 0.9778\n",
      "Accuracy sklearn PCA + LogisticRegression = 0.8667\n"
     ]
    }
   ],
   "execution_count": 22
  }
 ],
 "metadata": {
  "kernelspec": {
   "display_name": "Python 3",
   "language": "python",
   "name": "python3"
  },
  "language_info": {
   "codemirror_mode": {
    "name": "ipython",
    "version": 2
   },
   "file_extension": ".py",
   "mimetype": "text/x-python",
   "name": "python",
   "nbconvert_exporter": "python",
   "pygments_lexer": "ipython2",
   "version": "2.7.6"
  }
 },
 "nbformat": 4,
 "nbformat_minor": 5
}
