{
 "cells": [
  {
   "metadata": {},
   "cell_type": "markdown",
   "source": "###Импорт необходимых модулей и функций",
   "id": "bbd5b1c68ecc2617"
  },
  {
   "metadata": {
    "ExecuteTime": {
     "end_time": "2025-04-24T02:30:04.991622Z",
     "start_time": "2025-04-24T02:30:04.987475Z"
    }
   },
   "cell_type": "code",
   "source": [
    "import numpy as np\n",
    "import matplotlib.pyplot as plt\n",
    "\n",
    "from algorithms_pca.linear_solver import gauss_solver\n",
    "from algorithms_pca.statistics import covariance_matrix\n",
    "from algorithms_pca.eigen import find_eigenvalues, find_eigenvectors\n",
    "from algorithms_pca.visualization import plot_pca_projection\n",
    "from algorithms_pca.utils import apply_pca_to_dataset, add_noise_and_compare\n",
    "from numpy.linalg import eigh\n",
    "from sklearn.datasets import load_iris\n",
    "from sklearn.preprocessing import StandardScaler\n",
    "from sklearn.linear_model import LogisticRegression\n",
    "from sklearn.metrics import accuracy_score\n",
    "from sklearn.model_selection import train_test_split\n",
    "from sklearn.decomposition import PCA as SklearnPCA\n",
    "from algorithms_pca.matrix import Matrix\n",
    "from algorithms_pca.pca import pca_qr\n",
    "from algorithms_pca.statistics import center_data\n",
    "from algorithms_pca.utils import auto_select_k"
   ],
   "id": "eb4b48d052a3a135",
   "outputs": [],
   "execution_count": 7
  },
  {
   "metadata": {},
   "cell_type": "markdown",
   "source": "###Базовые операции над матрицами\n",
   "id": "3a88d679b0f2fa19"
  },
  {
   "metadata": {},
   "cell_type": "markdown",
   "source": "Создаем две матрицы A и B размера 2×2 и демонстрируем различные операции",
   "id": "6585946d473ec1ac"
  },
  {
   "metadata": {
    "ExecuteTime": {
     "end_time": "2025-04-24T02:30:05.009747Z",
     "start_time": "2025-04-24T02:30:05.004730Z"
    }
   },
   "cell_type": "code",
   "source": [
    "A = Matrix([[4, 7], [2, 6]])  # пример матрицы A\n",
    "B = Matrix([[3, 8], [5, 1]])  # пример матрицы B\n",
    "print(\"A + B =\", A + B)          # сложение поэлементно\n",
    "print(\"A - B =\", A - B)          # вычитание\n",
    "print(\"A * B (elem) =\", A * B)   # поэлементное умножение\n",
    "print(\"A.matmul(B) =\", A.matmul(B))  # матричное умножение\n",
    "print(\"A.T =\", A.T)              # транспонирование\n",
    "print(\"det(A) =\", A.determinant())   # определитель\n",
    "print(\"inv(A) =\", A.inverse())      # обратная матрица\n",
    "print(\"rank(A) =\", A.rank())        # ранг\n",
    "print(\"trace(A) =\", A.trace())      # след\n",
    "P, L, U = A.lu()                   # LU-разложение\n",
    "print(\"P, L, U =\", P, L, U)\n",
    "# Решение Ax = b методом LU\n",
    "x = A.solve(Matrix([[1], [0]]))\n",
    "print(\"Solution x to Ax=b =\", x)\n",
    "# Решение той же системы методом Гаусса\n",
    "x = gauss_solver(A, Matrix([[1], [0]]))\n",
    "print(\"Solution x to Ax=b =\", x)"
   ],
   "id": "6d8f9d725b3ee22d",
   "outputs": [
    {
     "name": "stdout",
     "output_type": "stream",
     "text": [
      "A + B = Matrix([[7, 15], [7, 7]])\n",
      "A - B = Matrix([[1, -1], [-3, 5]])\n",
      "A * B (elem) = Matrix([[12, 56], [10, 6]])\n",
      "A.matmul(B) = Matrix([[47.0, 39.0], [36.0, 22.0]])\n",
      "A.T = Matrix([[4, 2], [7, 6]])\n",
      "det(A) = 10.0\n",
      "inv(A) = Matrix([[0.6000000000000001, -0.7000000000000001], [-0.2, 0.4]])\n",
      "rank(A) = 2\n",
      "trace(A) = 10\n",
      "P, L, U = Matrix([[1.0, 0.0], [0.0, 1.0]]) Matrix([[1.0, 0.0], [0.5, 1.0]]) Matrix([[4, 7], [0.0, 2.5]])\n",
      "Solution x to Ax=b = Matrix([[0.6000000000000001], [-0.2]])\n",
      "Solution x to Ax=b = [Matrix([[0.6000000000000001], [-0.2]])]\n"
     ]
    }
   ],
   "execution_count": 8
  },
  {
   "metadata": {},
   "cell_type": "markdown",
   "source": "Новый пример решения квадратной системы методом LU и Гаусса",
   "id": "6c47fa8e7df85731"
  },
  {
   "metadata": {
    "ExecuteTime": {
     "end_time": "2025-04-24T02:30:05.028049Z",
     "start_time": "2025-04-24T02:30:05.024034Z"
    }
   },
   "cell_type": "code",
   "source": [
    "A = Matrix([[1, 2, 3], [4, 5, 6], [7, 8, 10]])\n",
    "x = A.solve(Matrix([[6], [15], [25]]))\n",
    "print(\"Solution x to Ax=b =\", x)\n",
    "\n",
    "x = gauss_solver(A, Matrix([[6], [15], [25]]))\n",
    "print(\"Solution x to Ax=b =\", x)"
   ],
   "id": "9318e826b7810e78",
   "outputs": [
    {
     "name": "stdout",
     "output_type": "stream",
     "text": [
      "Solution x to Ax=b = Matrix([[-6.142857142857159], [47.42857142857147], [-31.142857142857167]])\n",
      "Solution x to Ax=b = [Matrix([[1.0000000000000013], [0.9999999999999969], [1.0000000000000016]])]\n"
     ]
    }
   ],
   "execution_count": 9
  },
  {
   "metadata": {},
   "cell_type": "markdown",
   "source": "Решаем систему, где матрица вырождена и есть свободные переменные",
   "id": "323171499d544f94"
  },
  {
   "metadata": {
    "ExecuteTime": {
     "end_time": "2025-04-24T02:30:05.053126Z",
     "start_time": "2025-04-24T02:30:05.049480Z"
    }
   },
   "cell_type": "code",
   "source": [
    "A = Matrix([\n",
    "    [1, 2, -1],\n",
    "    [-2, -4, 2],\n",
    "    [3, 6, -3]\n",
    "])\n",
    "b = Matrix([\n",
    "    [1],\n",
    "    [-2],\n",
    "    [3]\n",
    "])\n",
    "solutions = gauss_solver(A, b)  # система имеет бесконечно много решений\n",
    "print(solutions)"
   ],
   "id": "e5aa9e2ddcb2ae2",
   "outputs": [
    {
     "name": "stdout",
     "output_type": "stream",
     "text": [
      "[Matrix([[1.0], [0.0], [0.0]]), Matrix([[-2.0], [1.0], [0.0]]), Matrix([[1.0], [0.0], [1.0]])]\n"
     ]
    }
   ],
   "execution_count": 10
  },
  {
   "metadata": {},
   "cell_type": "markdown",
   "source": "###Cтатистика – центрирование и ковариация",
   "id": "341d4b1a3972869c"
  },
  {
   "metadata": {},
   "cell_type": "markdown",
   "source": "Пример центрирования данных и расчета ковариационной матрицы",
   "id": "9afbcf03ed50a607"
  },
  {
   "metadata": {
    "ExecuteTime": {
     "end_time": "2025-04-24T02:30:05.078200Z",
     "start_time": "2025-04-24T02:30:05.074046Z"
    }
   },
   "cell_type": "code",
   "source": [
    "X = Matrix([\n",
    "    [1, 2, 3],\n",
    "    [4, 5, 6],\n",
    "    [7, 8, 9]\n",
    "])\n",
    "X_centered, _ = center_data(X)  # вычитание среднего по столбцам\n",
    "print(\"Центрированная матрица:\")\n",
    "print(X_centered)\n",
    "cov = covariance_matrix(X_centered)  # ковариационная матрица\n",
    "print(\"Матрица ковариаций:\")\n",
    "print(cov)"
   ],
   "id": "2c759834eb6454f6",
   "outputs": [
    {
     "name": "stdout",
     "output_type": "stream",
     "text": [
      "Центрированная матрица:\n",
      "Matrix([[-3.0, -3.0, -3.0], [0.0, 0.0, 0.0], [3.0, 3.0, 3.0]])\n",
      "Матрица ковариаций:\n",
      "Matrix([[9.0, 9.0, 9.0], [9.0, 9.0, 9.0], [9.0, 9.0, 9.0]])\n"
     ]
    }
   ],
   "execution_count": 11
  },
  {
   "metadata": {},
   "cell_type": "markdown",
   "source": "###PCA простым методом и визуализация",
   "id": "bb334f5fce95891"
  },
  {
   "metadata": {},
   "cell_type": "markdown",
   "source": "Демонстрация применения PCA к небольшому набору данных и построение графика",
   "id": "c85f3bb9b40812c6"
  },
  {
   "metadata": {
    "ExecuteTime": {
     "end_time": "2025-04-24T02:30:05.214910Z",
     "start_time": "2025-04-24T02:30:05.099924Z"
    }
   },
   "cell_type": "code",
   "source": [
    "sample_data = Matrix([\n",
    "    [5.1, 3.5, 1.4, 0.2],\n",
    "    [4.9, 3.0, 1.4, 0.2],\n",
    "    [6.2, 3.4, 5.4, 2.3],\n",
    "    [5.9, 3.0, 5.1, 1.8],\n",
    "    [6.7, 3.1, 4.7, 1.5],\n",
    "])\n",
    "X_proj_qr, ratio_qr, raw_vals, W, means = pca_qr(sample_data, k=2)\n",
    "print(f\"Projected data (n×k): {X_proj_qr}\")\n",
    "print(f\"Explained variance ratio: {ratio_qr:.4f}\")\n",
    "fig = plot_pca_projection(X_proj_qr)"
   ],
   "id": "fb8b281e9e6b88f2",
   "outputs": [
    {
     "name": "stdout",
     "output_type": "stream",
     "text": [
      "Projected data (n×k): Matrix([[-2.507607754987199, 0.05132281090050961], [-2.5593412408261225, -0.11859180693717364], [2.1310551995386993, -0.2517599467126616], [1.5869484075332654, -0.2884740780355951], [1.3489453887413576, 0.6075030207849226]])\n",
      "Explained variance ratio: 0.9875\n"
     ]
    },
    {
     "data": {
      "text/plain": [
       "<Figure size 640x480 with 1 Axes>"
      ],
      "image/png": "[encoded data removed]"
     },
     "metadata": {},
     "output_type": "display_data"
    }
   ],
   "execution_count": 12
  },
  {
   "metadata": {},
   "cell_type": "markdown",
   "source": "Cравнение с numpy и sklearn. Повторяем PCA с использованием numpy, сверяем результаты",
   "id": "20b31cb5a20522c9"
  },
  {
   "metadata": {
    "ExecuteTime": {
     "end_time": "2025-04-24T02:30:05.254707Z",
     "start_time": "2025-04-24T02:30:05.249818Z"
    }
   },
   "cell_type": "code",
   "source": [
    "mean = np.mean(sample_data._data, axis=0)\n",
    "X_centered_np = np.array(sample_data._data) - mean\n",
    "cov_matrix = np.cov(X_centered_np, rowvar=False)\n",
    "eig_vals, eig_vecs = eigh(cov_matrix)\n",
    "sorted_idx = np.argsort(eig_vals)[::-1]\n",
    "eig_vecs_sorted = eig_vecs[:, sorted_idx]\n",
    "eig_vals_sorted = eig_vals[sorted_idx]\n",
    "k = 1\n",
    "components = eig_vecs_sorted[:, :k]\n",
    "X_p_np = X_centered_np @ components\n",
    "explained_np = eig_vals_sorted[:k].sum() / eig_vals_sorted.sum()\n",
    "print(\"Projected data (n×k):\")\n",
    "print(X_p_np)\n",
    "print(f\"Explained variance ratio: {explained_np:.4f}\")"
   ],
   "id": "33f3da8862e38f44",
   "outputs": [
    {
     "name": "stdout",
     "output_type": "stream",
     "text": [
      "Projected data (n×k):\n",
      "[[ 2.50760775]\n",
      " [ 2.55934124]\n",
      " [-2.1310552 ]\n",
      " [-1.58694841]\n",
      " [-1.34894539]]\n",
      "Explained variance ratio: 0.9639\n"
     ]
    }
   ],
   "execution_count": 13
  },
  {
   "metadata": {},
   "cell_type": "markdown",
   "source": "###Автоподбор числа компонент k по порогу",
   "id": "3fe9020e1e9aec20"
  },
  {
   "metadata": {},
   "cell_type": "markdown",
   "source": "Автоматический выбор k на основе порога объясненной дисперсии",
   "id": "402da94da54638c1"
  },
  {
   "metadata": {
    "ExecuteTime": {
     "end_time": "2025-04-24T02:30:06.434731Z",
     "start_time": "2025-04-24T02:30:05.277728Z"
    }
   },
   "cell_type": "code",
   "source": [
    "X = Matrix([\n",
    "    [2.5, 2.4, 1.2, 3.1, 0.5],\n",
    "    [0.5, 0.7, 1.5, 2.9, 0.3],\n",
    "    [2.2, 2.9, 0.9, 3.2, 0.6],\n",
    "    [1.9, 2.2, 1.0, 3.0, 0.4],\n",
    "    [3.1, 3.0, 1.3, 3.5, 0.7],\n",
    "    [2.3, 2.7, 1.1, 3.3, 0.5]\n",
    "])\n",
    "eig = find_eigenvalues(covariance_matrix(center_data(X)[0]))\n",
    "k_selected = auto_select_k(eig, 0.95)\n",
    "print(f\"Автоподобранное k (95%): {k_selected}\")"
   ],
   "id": "b8c03c9715df48eb",
   "outputs": [
    {
     "name": "stdout",
     "output_type": "stream",
     "text": [
      "Автоподобранное k (95%): 2\n"
     ]
    }
   ],
   "execution_count": 14
  },
  {
   "metadata": {},
   "cell_type": "markdown",
   "source": "Добавление шума и сравнение восстановления, применяем функцию add_noise_and_compare и смотрим на метрики",
   "id": "4d37a94aebf98892"
  },
  {
   "metadata": {
    "ExecuteTime": {
     "end_time": "2025-04-24T02:30:07.640070Z",
     "start_time": "2025-04-24T02:30:06.450681Z"
    }
   },
   "cell_type": "code",
   "source": [
    "X_example = Matrix([\n",
    "    [2.5, 2.4, 1.2, 3.1, 0.5],\n",
    "    [0.5, 0.7, 1.5, 2.9, 0.3],\n",
    "    [2.2, 2.9, 0.9, 3.2, 0.6],\n",
    "    [1.9, 2.2, 1.0, 3.0, 0.4],\n",
    "    [3.1, 3.0, 1.3, 3.5, 0.7],\n",
    "    [2.3, 2.7, 1.1, 3.3, 0.5]\n",
    "])\n",
    "result = add_noise_and_compare(X_example, noise_level=0.2)\n",
    "print(\"Selected k:\", result['k'])\n",
    "print(\"Explained ratio (orig):\", result['ratio_orig'])\n",
    "print(\"Explained ratio (noisy):\", result['ratio_noisy'])"
   ],
   "id": "a3132ce60e8142fd",
   "outputs": [
    {
     "name": "stdout",
     "output_type": "stream",
     "text": [
      "Selected k: 2\n",
      "Explained ratio (orig): 0.9867781313706439\n",
      "Explained ratio (noisy): 0.9674327900697505\n"
     ]
    }
   ],
   "execution_count": 15
  },
  {
   "metadata": {},
   "cell_type": "markdown",
   "source": "Применение PCA к датасету Iris и сравнение алгоритмов\n",
   "id": "5ed1a2b8945aba0"
  },
  {
   "metadata": {
    "ExecuteTime": {
     "end_time": "2025-04-24T02:30:07.662439Z",
     "start_time": "2025-04-24T02:30:07.652851Z"
    }
   },
   "cell_type": "code",
   "source": [
    "X_proj_iris, ratio_iris = apply_pca_to_dataset('iris', 1)\n",
    "print(f\"Iris dataset projected shape: ({X_proj_iris.rows}, {X_proj_iris.cols})\")\n",
    "print(f\"Explained ratio (iris, k=1): {ratio_iris:.4f}\")"
   ],
   "id": "bb28aeb54c34b79e",
   "outputs": [
    {
     "name": "stdout",
     "output_type": "stream",
     "text": [
      "Iris dataset projected shape: (150, 1)\n",
      "Explained ratio (iris, k=1): 0.9246\n"
     ]
    }
   ],
   "execution_count": 16
  },
  {
   "metadata": {},
   "cell_type": "markdown",
   "source": "Пример: вычисление собственных значений и векторов для небольшой матрицы",
   "id": "883d3cef6dbc75f"
  },
  {
   "metadata": {
    "ExecuteTime": {
     "end_time": "2025-04-24T02:30:08.044551Z",
     "start_time": "2025-04-24T02:30:07.682654Z"
    }
   },
   "cell_type": "code",
   "source": [
    "# Создаём 2×2 матрицу\n",
    "data = Matrix([\n",
    "    [-1, -6],\n",
    "    [2, 6]\n",
    "])\n",
    "\n",
    "# Вычисляем собственные значения (λ) методом бисекции по характеристическому многочлену\n",
    "eigenvalues = find_eigenvalues(data)\n",
    "\n",
    "# Для каждого найденного собственного значения находим собственный вектор решениями (C - λI)x = 0\n",
    "eigenvectors = find_eigenvectors(data, eigenvalues)\n",
    "\n",
    "# Выводим результат\n",
    "print(\"\\nСобственные значения:\", [f\"{λ:.3f}\" for λ in eigenvalues])  # округляем до 3 знаков\n",
    "print(\"\\nСобственные векторы:\")\n",
    "for i, vec in enumerate(eigenvectors, start=1):\n",
    "    print(f\"Вектор {i}:\", vec)  # каждый vec — это объект Matrix-столбец"
   ],
   "id": "5ad9ef11c1dcb27b",
   "outputs": [
    {
     "name": "stdout",
     "output_type": "stream",
     "text": [
      "\n",
      "Собственные значения: ['2.000', '3.000']\n",
      "\n",
      "Собственные векторы:\n",
      "Вектор 1: [Matrix([[-2.0], [1.0]])]\n",
      "Вектор 2: [Matrix([[-1.5], [1.0]])]\n"
     ]
    }
   ],
   "execution_count": 17
  },
  {
   "metadata": {},
   "cell_type": "markdown",
   "source": "###Сравнение собственного QR-PCA с реализацией sklearn на датасете Iris",
   "id": "31783bc0e2e24b47"
  },
  {
   "metadata": {
    "ExecuteTime": {
     "end_time": "2025-04-24T02:30:08.458765Z",
     "start_time": "2025-04-24T02:30:08.055979Z"
    }
   },
   "cell_type": "code",
   "source": [
    "def matrix_to_np(X: Matrix) -> np.ndarray:\n",
    "    \"\"\"Конвертация объекта Matrix в numpy.ndarray для sklearn и визуализации.\"\"\"\n",
    "    return np.array(X._data)\n",
    "\n",
    "\n",
    "def visualize(X_my: np.ndarray, X_sk: np.ndarray, y: np.ndarray):\n",
    "    \"\"\"\n",
    "    Строит две диаграммы рассеяния:\n",
    "    - слева — собственная реализация PCA_QR,\n",
    "    - справа — sklearn PCA,\n",
    "    с раскраской точек по классам.\n",
    "    \"\"\"\n",
    "    plt.figure(figsize=(12, 5))\n",
    "    for i, (Xp, title) in enumerate([(X_my, \"PCA_QR\"), (X_sk, \"sklearn PCA\")], start=1):\n",
    "        ax = plt.subplot(1, 2, i)\n",
    "        for cls in np.unique(y):\n",
    "            ax.scatter(Xp[y == cls, 0], Xp[y == cls, 1], label=f\"class {cls}\")\n",
    "        ax.set_title(title)\n",
    "        ax.set_xlabel(\"PC1\")\n",
    "        ax.set_ylabel(\"PC2\")\n",
    "        ax.legend()\n",
    "    plt.tight_layout()\n",
    "    plt.show()\n",
    "\n",
    "\n",
    "# 1. Загрузка данных Iris и преобразование в Matrix\n",
    "data = load_iris()\n",
    "X_np = data.data          # numpy array размером (150,4)\n",
    "y = data.target           # метки классов\n",
    "X = Matrix(X_np.tolist()) # переводим в наш Matrix\n",
    "\n",
    "# 2. Стандартизация признаков для sklearn PCA\n",
    "scaler = StandardScaler()\n",
    "X_scaled = scaler.fit_transform(X_np)\n",
    "\n",
    "# 3. Автоподбор числа компонент k по порогу объяснённой дисперсии (95%) через QR-PCA\n",
    "Xc, _ = center_data(X)           # центрируем данные\n",
    "Cov = Xc.T.matmul(Xc)  / X.rows         # ковариационная матрица\n",
    "eigvals = Cov.qr_eigen()[0]      # находим все собственные значения через QR-алгоритм\n",
    "k = auto_select_k(eigvals, 0.95) # выбираем минимальное k, дающее не менее 95% дисперсии\n",
    "print(\"Выбранное k =\", k)\n",
    "\n",
    "# 4. Собственная реализация PCA через QR-алгоритм\n",
    "X_proj_qr, ratio_qr, raw_vals, W, means = pca_qr(X, k)\n",
    "Xp_qr_np = matrix_to_np(X_proj_qr)\n",
    "print(f\"PCA_QR explained variance ratio = {ratio_qr:.4f}\")\n",
    "\n",
    "# 5. PCA от sklearn для сравнения\n",
    "sk_pca = SklearnPCA(n_components=k)\n",
    "Xp_sk = sk_pca.fit_transform(X_scaled)\n",
    "print(f\"sklearn explained variance ratio = {sk_pca.explained_variance_ratio_.sum():.4f}\")\n",
    "\n",
    "# 6. Визуализация проекций двух методов\n",
    "visualize(Xp_qr_np, Xp_sk, y)\n",
    "\n",
    "# 7. Классификация на новых признаках и оценка качества\n",
    "#   разбиваем данные на train/test\n",
    "X_tr_qr, X_te_qr, y_tr, y_te = train_test_split(\n",
    "    Xp_qr_np, y, test_size=0.3, random_state=0\n",
    ")\n",
    "X_tr_sk, X_te_sk, _, _ = train_test_split(\n",
    "    Xp_sk, y, test_size=0.3, random_state=0\n",
    ")\n",
    "\n",
    "# обучаем логистическую регрессию на проекциях\n",
    "clf_qr = LogisticRegression(max_iter=1000).fit(X_tr_qr, y_tr)\n",
    "clf_sk = LogisticRegression(max_iter=1000).fit(X_tr_sk, y_tr)\n",
    "\n",
    "# вычисляем точность (accuracy) на тесте\n",
    "acc_qr = accuracy_score(y_te, clf_qr.predict(X_te_qr))\n",
    "acc_sk = accuracy_score(y_te, clf_sk.predict(X_te_sk))\n",
    "print(f\"Accuracy PCA_QR + LogisticRegression = {acc_qr:.4f}\")\n",
    "print(f\"Accuracy sklearn PCA + LogisticRegression = {acc_sk:.4f}\")"
   ],
   "id": "4646d506469f3904",
   "outputs": [
    {
     "name": "stdout",
     "output_type": "stream",
     "text": [
      "Выбранное k = 2\n",
      "PCA_QR explained variance ratio = 0.9777\n",
      "sklearn explained variance ratio = 0.9581\n"
     ]
    },
    {
     "data": {
      "text/plain": [
       "<Figure size 1200x500 with 2 Axes>"
      ],
      "image/png": "[encoded data removed]"
     },
     "metadata": {},
     "output_type": "display_data"
    },
    {
     "name": "stdout",
     "output_type": "stream",
     "text": [
      "Accuracy PCA_QR + LogisticRegression = 0.9778\n",
      "Accuracy sklearn PCA + LogisticRegression = 0.8667\n"
     ]
    }
   ],
   "execution_count": 18
  },
  {
   "metadata": {},
   "cell_type": "markdown",
   "source": [
    "# Математическое обоснование PCA\n",
    "\n",
    "**Цель:** Доказать, что оптимальные направления PCA, максимизирующие дисперсию проекции данных, совпадают с собственными векторами матрицы ковариаций $\\Sigma$, соответствующими наибольшим собственным значениям.\n",
    "\n",
    "---\n",
    "\n",
    "### Шаг 1: Определение дисперсии проекции\n",
    "\n",
    "- Цель PCA — найти направление $u$, которое максимизирует дисперсию спроецированных данных $p = X_c u$.\n",
    "- Дисперсия проекции:\n",
    "\n",
    "  $$\n",
    "  \\text{Var}(p) = \\frac{1}{n-1} \\sum_{i=1}^n p_i^2 = \\frac{1}{n-1} \\|p\\|^2\n",
    "  $$\n",
    "\n",
    "- Подставим $p = X_c u$:\n",
    "\n",
    "  $$\n",
    "  \\text{Var}(p) = \\frac{1}{n-1} \\|X_c u\\|^2 = \\frac{1}{n-1} (X_c u)^T (X_c u) = \\frac{1}{n-1} u^T X_c^T X_c u\n",
    "  $$\n",
    "\n",
    "---\n",
    "\n",
    "### Шаг 2: Связь дисперсии с матрицей ковариаций\n",
    "\n",
    "- Определим матрицу ковариаций:\n",
    "\n",
    "  $$\n",
    "  \\Sigma = \\frac{1}{n-1} X_c^T X_c\n",
    "  $$\n",
    "\n",
    "- Тогда дисперсия:\n",
    "\n",
    "  $$\n",
    "  \\text{Var}(p) = u^T \\Sigma u\n",
    "  $$\n",
    "\n",
    "- То есть максимизация дисперсии эквивалентна максимизации $u^T \\Sigma u$.\n",
    "\n",
    "---\n",
    "\n",
    "### Шаг 3: Формулировка оптимизационной задачи\n",
    "\n",
    "- Найти вектор $u$, который решает задачу:\n",
    "\n",
    "  $$\n",
    "  \\max_{u} \\quad u^T \\Sigma u \\quad \\text{при условии} \\quad u^T u = 1\n",
    "  $$\n",
    "\n",
    "---\n",
    "\n",
    "### Шаг 4: Спектральная теорема\n",
    "\n",
    "- Матрица $\\Sigma$ — вещественная и симметричная.\n",
    "- По спектральной теореме, существует ортонормированный базис из собственных векторов $v_1, v_2, \\dots, v_m$.\n",
    "- Им соответствуют собственные значения $\\lambda_1 \\ge \\lambda_2 \\ge \\dots \\ge \\lambda_m \\ge 0$:\n",
    "\n",
    "  $$\n",
    "  \\Sigma v_i = \\lambda_i v_i, \\quad v_i^T v_j = \\delta_{ij}\n",
    "  $$\n",
    "\n",
    "---\n",
    "\n",
    "### Шаг 5: Разложение $u$ по базису собственных векторов\n",
    "\n",
    "- Разложим вектор $u$:\n",
    "\n",
    "  $$\n",
    "  u = \\sum_{i=1}^m c_i v_i, \\quad \\sum_{i=1}^m c_i^2 = 1\n",
    "  $$\n",
    "\n",
    "- Тогда:\n",
    "\n",
    "  $$\n",
    "  u^T \\Sigma u = \\sum_{i=1}^m c_i^2 \\lambda_i\n",
    "  $$\n",
    "\n",
    "---\n",
    "\n",
    "### Шаг 6: Максимизация выражения\n",
    "\n",
    "- Оптимизация:\n",
    "\n",
    "  $$\n",
    "  \\max \\sum_{i=1}^m c_i^2 \\lambda_i \\quad \\text{при} \\quad \\sum_{i=1}^m c_i^2 = 1\n",
    "  $$\n",
    "\n",
    "- Максимум достигается при $c_1 = \\pm 1$, остальные $c_i = 0$, если $\\lambda_1 > \\lambda_2$.\n",
    "- Тогда:\n",
    "\n",
    "  $$\n",
    "  u = \\pm v_1\n",
    "  $$\n",
    "\n",
    "---\n",
    "\n",
    "### Шаг 7: Вывод\n",
    "\n",
    "- Оптимальное направление $u$ совпадает с собственным вектором $v_1$, соответствующим наибольшему собственному значению $\\lambda_1$ (с точностью до знака).\n",
    "\n",
    "**Ч.т.д.**"
   ],
   "id": "9da178165ec2788a"
  }
 ],
 "metadata": {
  "kernelspec": {
   "display_name": "Python 3",
   "language": "python",
   "name": "python3"
  },
  "language_info": {
   "codemirror_mode": {
    "name": "ipython",
    "version": 2
   },
   "file_extension": ".py",
   "mimetype": "text/x-python",
   "name": "python",
   "nbconvert_exporter": "python",
   "pygments_lexer": "ipython2",
   "version": "2.7.6"
  }
 },
 "nbformat": 4,
 "nbformat_minor": 5
}
