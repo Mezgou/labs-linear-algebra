{
 "cells": [
  {
   "metadata": {
    "ExecuteTime": {
     "end_time": "2025-04-22T09:48:53.479433Z",
     "start_time": "2025-04-22T09:48:53.473827Z"
    }
   },
   "cell_type": "code",
   "source": [
    "from algorithms_pca.matrix import Matrix\n",
    "from algorithms_pca.linear_solver import gauss_solver"
   ],
   "id": "432cde9a475ba869",
   "outputs": [],
   "execution_count": 1
  },
  {
   "cell_type": "code",
   "id": "initial_id",
   "metadata": {
    "collapsed": true,
    "ExecuteTime": {
     "end_time": "2025-04-22T10:05:09.399116Z",
     "start_time": "2025-04-22T10:05:09.392636Z"
    }
   },
   "source": [
    "A = Matrix([[4, 7], [2, 6]])\n",
    "B = Matrix([[3, 8], [5, 1]])\n",
    "print(\"A + B =\", A + B)\n",
    "print(\"A - B =\", A - B)\n",
    "print(\"A * B (elem) =\", A * B)\n",
    "print(\"A.matmul(B) =\", A.matmul(B))\n",
    "print(\"A.T =\", A.T)\n",
    "print(\"det(A) =\", A.determinant())\n",
    "print(\"inv(A) =\", A.inverse())\n",
    "print(\"rank(A) =\", A.rank())\n",
    "print(\"trace(A) =\", A.trace())\n",
    "P, L, U = A.lu()\n",
    "print(\"P, L, U =\", P, L, U)\n",
    "x = A.solve(Matrix([[1], [0]]))\n",
    "print(\"Solution x to Ax=b =\", x)\n",
    "x = gauss_solver(A, Matrix([[1], [0]]))\n",
    "print(\"Solution x to Ax=b =\", x)\n",
    "\n",
    "A = Matrix([[1, 2, 3], [4, 5, 6], [7, 8, 10]])\n",
    "x = A.solve(Matrix([[6], [15], [25]]))\n",
    "print(\"Solution x to Ax=b =\", x)\n",
    "\n",
    "x = gauss_solver(A, Matrix([[6], [15], [25]]))\n",
    "print(\"Solution x to Ax=b =\", x)\n",
    "\n",
    "A = Matrix([\n",
    "    [1, 2, -1],\n",
    "    [-2, -4, 2],\n",
    "    [3, 6, -3]\n",
    "])\n",
    "b = Matrix([\n",
    "    [1],\n",
    "    [-2],\n",
    "    [3]\n",
    "])\n",
    "\n",
    "solutions = gauss_solver(A, b)\n",
    "print(solutions)"
   ],
   "outputs": [
    {
     "name": "stdout",
     "output_type": "stream",
     "text": [
      "A + B = Matrix([[7, 15], [7, 7]])\n",
      "A - B = Matrix([[1, -1], [-3, 5]])\n",
      "A * B (elem) = Matrix([[12, 56], [10, 6]])\n",
      "A.matmul(B) = Matrix([[47, 39], [36, 22]])\n",
      "A.T = Matrix([[4, 2], [7, 6]])\n",
      "det(A) = 10.0\n",
      "inv(A) = Matrix([[0.6000000000000001, -0.7000000000000001], [-0.2, 0.4]])\n",
      "rank(A) = 2\n",
      "trace(A) = 10\n",
      "P, L, U = Matrix([[1.0, 0.0], [0.0, 1.0]]) Matrix([[1.0, 0.0], [0.5, 1.0]]) Matrix([[4, 7], [0.0, 2.5]])\n",
      "Solution x to Ax=b = Matrix([[0.6000000000000001], [-0.2]])\n",
      "Solution x to Ax=b = [Matrix([[0.6000000000000001], [-0.2]])]\n",
      "Solution x to Ax=b = Matrix([[1.0000000000000004], [0.9999999999999987], [1.0000000000000007]])\n",
      "Solution x to Ax=b = [Matrix([[1.0000000000000013], [0.9999999999999969], [1.0000000000000016]])]\n",
      "[Matrix([[1.0], [0.0], [0.0]]), Matrix([[-2.0], [1.0], [0.0]]), Matrix([[1.0], [0.0], [1.0]])]\n"
     ]
    }
   ],
   "execution_count": 8
  }
 ],
 "metadata": {
  "kernelspec": {
   "display_name": "Python 3",
   "language": "python",
   "name": "python3"
  },
  "language_info": {
   "codemirror_mode": {
    "name": "ipython",
    "version": 2
   },
   "file_extension": ".py",
   "mimetype": "text/x-python",
   "name": "python",
   "nbconvert_exporter": "python",
   "pygments_lexer": "ipython2",
   "version": "2.7.6"
  }
 },
 "nbformat": 4,
 "nbformat_minor": 5
}
